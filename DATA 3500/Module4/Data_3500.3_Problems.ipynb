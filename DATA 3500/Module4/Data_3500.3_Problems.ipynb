{
 "cells": [
  {
   "cell_type": "markdown",
   "metadata": {},
   "source": [
    "# **Solutions**\n",
    "- Run this cell before starting the notebook. You do not need to look at or understand the code. By running this, you will allow yourself to see solutions throughout the notebook as I ask you to solve problems."
   ]
  },
  {
   "cell_type": "code",
   "execution_count": null,
   "metadata": {},
   "outputs": [],
   "source": [
    "%%capture\n",
    "%load_ext autoreload\n",
    "%autoreload 2\n",
    "\n",
    "!pip install --upgrade git+https://github.com/1901Analytics/DATA3500.git\n",
    "\n",
    "from course_solutions.Data3500_ICPS import *"
   ]
  },
  {
   "cell_type": "markdown",
   "metadata": {},
   "source": [
    "### **Try the following problem #1**\n",
    "\n",
    "- Import the csv file called **ex1** using pandas. Call this file **df**.\n",
    "- Import the csv file called **ex2** using pandas and allow pandas to assign headers automatically. Call this file **df_noheader**.\n",
    "- Import the csv file called **ex2** using pandas and assign header names yourself. Use the names **a, b, c, d, and message**. Call this file **df_header**.\n",
    "- Repeat the above steps and assign **message** to be the index using the **index_col** argument. Call this file **df_index**.\n",
    "\n",
    "If you want to see the solution to this problem, run the code **solution3_1()** in an empty cell."
   ]
  },
  {
   "cell_type": "code",
   "execution_count": null,
   "metadata": {},
   "outputs": [],
   "source": [
    "# Try your answer to problem #1 here.\n",
    "# Remember that you can get an answer by running solution3_1()\n",
    "# You can run the solution code by removing the '#' below and\n",
    "# then running this cell.\n",
    "\n",
    "solution3_1()"
   ]
  },
  {
   "cell_type": "markdown",
   "metadata": {},
   "source": [
    "### **Try the following problem #2**\n",
    "\n",
    "- Try to import the following .txt file that has no delimiter. Observe the data with the following code to determine if there is a way to identitfy the individual observations. **list(open('data/ex3.txt'))**\n",
    "- The fields are separated bya variable amount of white space. We can use this as our delimiter. Use **\\s+** as our method of identifying seperate observations. Open our text file with pandas read_Csv and add **sep='\\s+'** as an additional option.\n",
    "\n",
    "If you want to see the solution to this problem, run the code **solution3_2()** in an empty cell."
   ]
  },
  {
   "cell_type": "code",
   "execution_count": null,
   "metadata": {},
   "outputs": [],
   "source": [
    "# Try your answer to problem #2 here.\n",
    "# Remember that you can get an answer by running solution3_2()\n",
    "# You can run the solution code by removing the '#' below and\n",
    "# then running this cell.\n",
    "    \n",
    "solution3_2()"
   ]
  },
  {
   "cell_type": "markdown",
   "metadata": {},
   "source": [
    "### **Try the following problem #3**\n",
    "\n",
    "- Use the dataframe **df** created below. \n",
    "- Fill all missing values with a value of 0.\n",
    "- Fill all missing values with a forward fill.\n",
    "- Use the **limit** option to limit the number of missing values that forward fill will fill to 2.\n",
    "- Fill all missing values with a backward fill.\n",
    "- Fill missing values with the mean value. You can use either method we discussed in class.\n",
    "\n",
    "If you want to see the solution to this problem, run the code solution3_3() in an empty cell."
   ]
  },
  {
   "cell_type": "code",
   "execution_count": null,
   "metadata": {},
   "outputs": [],
   "source": [
    "# Try your answer to problem #3 here.\n",
    "# Remember that you can get an answer by running solution3_3()\n",
    "# You can run the solution code by removing the '#' below and\n",
    "# then running this cell.\n",
    "\n",
    "df = pd.DataFrame(np.random.randn(7,3))\n",
    "df.iloc[1:4, 1] = np.nan\n",
    "df.iloc[1:2, 2] = np.nan\n",
    "    \n",
    "solution3_3()    "
   ]
  },
  {
   "cell_type": "markdown",
   "metadata": {},
   "source": [
    "### **Try the following problem #4**\n",
    "\n",
    "- We will now focus on missing data. Open the csv file **ex5** and observe the missing observations. How does pandas identify them?\n",
    "- Suppose we also want observations within the **message** column that are equal to **foo** to display a missing value. Create a dictionary that specifies which values in **message** you want to be identified as missing. Call this dictionary **add_missing**. Use this dictionary as an additional argument within **read_csv** as **na_values = add_missing**.\n",
    "\n",
    "If you want to see the solution to this problem, run the code solution3_4() in an empty cell."
   ]
  },
  {
   "cell_type": "code",
   "execution_count": null,
   "metadata": {},
   "outputs": [],
   "source": [
    "# Try your answer to problem #4 here.\n",
    "# Remember that you can get an answer by running solution3_4()\n",
    "# You can run the solution code by removing the '#' below and\n",
    "# then running this cell.\n",
    "        \n",
    "solution3_4()"
   ]
  },
  {
   "cell_type": "markdown",
   "metadata": {},
   "source": [
    "### **Try the following problem #5**\n",
    "\n",
    "- Use the provided dataframe to calculate the mean population value by state.\n",
    "- Calculate the state/year average population.\n",
    "- Calculate the standard deviation of state populations using the **std** aggregation method instead of **mean**.\n",
    "- Backfill missing tip data from the data frame **small_tip** provided below. Be sure to fill by smoker status only. This does should fill in the values on the original dataframe.\n",
    "\n",
    "If you want to see the solution to this problem, run the code solution3_5() in an empty cell."
   ]
  },
  {
   "cell_type": "code",
   "execution_count": null,
   "metadata": {},
   "outputs": [],
   "source": [
    "# Try your answer to problem #5 here.\n",
    "# Remember that you can get an answer by running solution3_5()\n",
    "# You can run the solution code by removing the '#' below and\n",
    "# then running this cell.\n",
    "\n",
    "states = pd.DataFrame({'state': ['Ohio', 'California', 'California', 'Ohio', 'Ohio','California'],\n",
    "                       'year' : ['2005', '2005', '2006', '2006', '2007','2006'],\n",
    "                       'pop': [2.2, 7.2, 3.2, 7.7, 2.1, 7.7]})\n",
    "tips = pd.read_csv('data/tips.txt')\n",
    "small_tip = tips[: 25]\n",
    "small_tip.iloc[16::, [2]] = 'Yes'\n",
    "small_tip.iloc[2:4, [1]] = np.nan\n",
    "small_tip.iloc[6:21, [1]] = np.nan\n",
    "small_tip.iloc[23::, [1]] = np.nan\n",
    "    \n",
    "solution3_5()"
   ]
  },
  {
   "cell_type": "markdown",
   "metadata": {},
   "source": [
    "### **Try the following problem #6**\n",
    "\n",
    "- With the provided dataframe, merge on lkey and rkey.\n",
    "- Notice that values for c and d are missing. The default merge is an 'inner' join. Remerge the data with an 'outer' join and notice the difference.\n",
    "\n",
    "If you want to see the solution to this problem, run the code solution3_7() in an empty cell."
   ]
  },
  {
   "cell_type": "code",
   "execution_count": null,
   "metadata": {},
   "outputs": [],
   "source": [
    "# Try your answer to problem #7 here.\n",
    "# Remember that you can get an answer by running solution3_7()\n",
    "# You can run the solution code by removing the '#' below and\n",
    "# then running this cell.\n",
    "\n",
    "df1 = pd.DataFrame({'lkey': ['b','b','a','c','a','a','b'],\n",
    "                   'data1': range(7)})\n",
    "df2 = pd.DataFrame({'rkey': ['a','b','d'],\n",
    "                   'data2': range(3)})\n",
    "    \n",
    "solution3_7()    "
   ]
  },
  {
   "cell_type": "code",
   "execution_count": null,
   "metadata": {},
   "outputs": [],
   "source": []
  }
 ],
 "metadata": {
  "kernelspec": {
   "display_name": "Python 3 (ipykernel)",
   "language": "python",
   "name": "python3"
  },
  "language_info": {
   "codemirror_mode": {
    "name": "ipython",
    "version": 3
   },
   "file_extension": ".py",
   "mimetype": "text/x-python",
   "name": "python",
   "nbconvert_exporter": "python",
   "pygments_lexer": "ipython3",
   "version": "3.9.7"
  }
 },
 "nbformat": 4,
 "nbformat_minor": 2
}

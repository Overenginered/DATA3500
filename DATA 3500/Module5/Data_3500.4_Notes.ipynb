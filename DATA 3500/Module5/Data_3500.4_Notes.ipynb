{
 "cells": [
  {
   "cell_type": "markdown",
   "metadata": {},
   "source": [
    "# ***DATA 3500*** *: Python 4*\n",
    "- Graphing and Visualizing Data.\n",
    "    - Plotting simple graphs\n",
    "    - Plotting multiple graphs on common axes\n",
    "    - Creating axes within a figure\n",
    "    - Creating subplots within a figure"
   ]
  },
  {
   "cell_type": "code",
   "execution_count": null,
   "metadata": {},
   "outputs": [],
   "source": [
    "# We will need to use matplotlib and interactive plotting.\n",
    "\n",
    "import pandas as pd\n",
    "import numpy as np\n",
    "\n",
    "import matplotlib.pyplot as plt\n",
    "\n",
    "%matplotlib inline"
   ]
  },
  {
   "cell_type": "code",
   "execution_count": null,
   "metadata": {},
   "outputs": [],
   "source": [
    "# We can now create a graph and view plots in our python notebook.\n",
    "\n",
    "data = np.arange(10)\n",
    "plt.plot(data)"
   ]
  },
  {
   "cell_type": "code",
   "execution_count": null,
   "metadata": {},
   "outputs": [],
   "source": [
    "# We can visualize changes in world population with a simple line chart.\n",
    "# Within plt.plot(x, y) we specify which data goes on the x-axis and the y-axis.\n",
    "\n",
    "year = [1950, 1970, 1990, 2010]\n",
    "pop = [2.489, 3.122, 5.723, 7.124]\n",
    "\n",
    "plt.plot(year, pop)"
   ]
  },
  {
   "cell_type": "code",
   "execution_count": null,
   "metadata": {},
   "outputs": [],
   "source": [
    "# We can also create a scatter plot.\n",
    "\n",
    "plt.scatter(year, pop)"
   ]
  },
  {
   "cell_type": "code",
   "execution_count": null,
   "metadata": {},
   "outputs": [],
   "source": [
    "# Histrograms are another method for visualizing the data.\n",
    "# Great method for visualizing the distribution of data.\n",
    "# Remember you can see the possible options with help(plt.hist)\n",
    "\n",
    "values = [0,0.6,1.4,1.6,2.2,2.5,2.6,3.2,3.5,3.9,4.2,6]\n",
    "plt.hist(values, bins=5)"
   ]
  },
  {
   "cell_type": "code",
   "execution_count": null,
   "metadata": {},
   "outputs": [],
   "source": [
    "# We can also customize our plots to better convey our message.\n",
    "# We can start with a basic plot and then add customization.\n",
    "\n",
    "observation = np.arange(50)\n",
    "growth = np.arange(50)**2\n",
    "plt.plot(observation, growth)"
   ]
  },
  {
   "cell_type": "code",
   "execution_count": null,
   "metadata": {},
   "outputs": [],
   "source": [
    "# We can start by labeling our axis.\n",
    "\n",
    "plt.xlabel('observation')\n",
    "plt.ylabel('growth')\n",
    "plt.plot(observation, growth)"
   ]
  },
  {
   "cell_type": "code",
   "execution_count": null,
   "metadata": {},
   "outputs": [],
   "source": [
    "# We can include a title as well.\n",
    "\n",
    "plt.xlabel('observation')\n",
    "plt.ylabel('growth')\n",
    "plt.title('This shows exponential growth!')\n",
    "plt.plot(observation, growth)"
   ]
  },
  {
   "cell_type": "code",
   "execution_count": null,
   "metadata": {},
   "outputs": [],
   "source": [
    "# We can now add different values on our axis.\n",
    "# We can choose if we want them evenly spaced. We will evenly space the x-axis but not the y-axis.\n",
    "\n",
    "plt.xlabel('observation')\n",
    "plt.xticks([0,5,10,15,20,25,30,35,40,45,50])\n",
    "plt.ylabel('growth')\n",
    "plt.yticks([0,100,500,1000,1500,2500])\n",
    "plt.title('This shows exponential growth!')\n",
    "plt.plot(observation, growth)"
   ]
  },
  {
   "cell_type": "code",
   "execution_count": null,
   "metadata": {},
   "outputs": [],
   "source": [
    "# Maybe we want to change the label of our axis values.\n",
    "# We have a very wealthy person and the y-axis represents the growth of their savings.\n",
    "\n",
    "plt.xlabel('observation')\n",
    "plt.xticks([0,5,10,15,20,25,30,35,40,45,50])\n",
    "plt.ylabel('growth')\n",
    "plt.yticks([0,100,500,1000,1500,2500],\n",
    "          ['0 dollars', '100 dollars', '500 dollars', '1,000 dollars', '1,500 dollars', '2,500 dollars'])\n",
    "plt.title('This shows exponential growth!')\n",
    "plt.plot(observation, growth)"
   ]
  },
  {
   "cell_type": "code",
   "execution_count": null,
   "metadata": {},
   "outputs": [],
   "source": [
    "# We will focus on a dataframe and two columns, first the date which represents months.\n",
    "\n",
    "weather = pd.read_csv('data/austin_weather.csv')\n",
    "weather['DATE']"
   ]
  },
  {
   "cell_type": "code",
   "execution_count": null,
   "metadata": {},
   "outputs": [],
   "source": [
    "# We will also look at the average temperature column.\n",
    "\n",
    "weather['MLY-TAVG-NORMAL']"
   ]
  },
  {
   "cell_type": "code",
   "execution_count": null,
   "metadata": {},
   "outputs": [],
   "source": [
    "# We can very easily specify which columns within a larger dataframe we want to plot.\n",
    "\n",
    "plt.plot(weather['DATE'], weather['MLY-TAVG-NORMAL'])"
   ]
  },
  {
   "cell_type": "code",
   "execution_count": null,
   "metadata": {},
   "outputs": [],
   "source": [
    "# This weather is only measured once per month, but it is not clear from the above graph.\n",
    "# We want to add a marker at the location of each actual data reading.\n",
    "\n",
    "plt.plot(weather['DATE'], weather['MLY-TAVG-NORMAL'], marker='o')"
   ]
  },
  {
   "cell_type": "code",
   "execution_count": null,
   "metadata": {},
   "outputs": [],
   "source": [
    "# We can further change the appearance of the connecting lines.\n",
    "\n",
    "plt.plot(weather['DATE'], weather['MLY-TAVG-NORMAL'], marker='o', linestyle='--')"
   ]
  },
  {
   "cell_type": "code",
   "execution_count": null,
   "metadata": {},
   "outputs": [],
   "source": [
    "# Or even eliminate the lines entirely.\n",
    "\n",
    "plt.plot(weather['DATE'], weather['MLY-TAVG-NORMAL'], marker='o', linestyle='None')"
   ]
  },
  {
   "cell_type": "code",
   "execution_count": null,
   "metadata": {},
   "outputs": [],
   "source": [
    "# We can even choose the color of the plot and data.\n",
    "\n",
    "plt.plot(weather['DATE'], weather['MLY-TAVG-NORMAL'], marker='o', linestyle='--', color='r')"
   ]
  },
  {
   "cell_type": "code",
   "execution_count": null,
   "metadata": {},
   "outputs": [],
   "source": [
    "# Customization extends beyond the actual data.\n",
    "# We can customize the axis labels and title.\n",
    "\n",
    "plt.title('Average weather in Austin')\n",
    "plt.xlabel('Time (months)')\n",
    "plt.ylabel('Temp (avg.)')\n",
    "plt.plot(weather['DATE'], weather['MLY-TAVG-NORMAL'], marker='o', linestyle='--', color='r')"
   ]
  },
  {
   "cell_type": "code",
   "execution_count": null,
   "metadata": {},
   "outputs": [],
   "source": [
    "seattle = pd.read_csv('data/seattle_weather.csv')\n",
    "seattle = seattle.loc[seattle['STATION'] == 'USC00456295']\n",
    "seattle"
   ]
  },
  {
   "cell_type": "code",
   "execution_count": null,
   "metadata": {},
   "outputs": [],
   "source": [
    "# We can also create plots with multiple sets of data.\n",
    "# fig holds the actual plot and ax holds all of our data.\n",
    "# We will use this method of plotting for more complicated plots with multiple data inputs.\n",
    "\n",
    "seattle = pd.read_csv('data/seattle_weather.csv')\n",
    "seattle = seattle.loc[seattle['STATION'] == 'USC00456295']\n",
    "\n",
    "fig = plt.figure()\n",
    "ax = fig.add_subplot()\n",
    "\n",
    "plt.title('Austin vs. Seattle')\n",
    "plt.xlabel('Time (months)')\n",
    "plt.ylabel('Temp (Avg.)')\n",
    "\n",
    "ax.plot(weather['DATE'], weather['MLY-TAVG-NORMAL'],color='r',label='Austin')\n",
    "ax.plot(seattle['DATE'], seattle['MLY-TAVG-NORMAL'],'--',color='b',label='Seattle')\n",
    "\n",
    "ax.legend(loc='best')"
   ]
  },
  {
   "cell_type": "code",
   "execution_count": null,
   "metadata": {},
   "outputs": [],
   "source": [
    "# Lets make a more complicated graph of the Austin precipitation and see if it still makes sense.\n",
    "# Plot the average, 25th and 75th percentile of precipitation in inches.\n",
    "\n",
    "fig = plt.figure()\n",
    "ax = fig.add_subplot()\n",
    "\n",
    "plt.title('Austin Precipitation')\n",
    "plt.xlabel('Time (months)')\n",
    "plt.ylabel('Precipitation (inches)')\n",
    "\n",
    "ax.plot(weather['DATE'], weather['MLY-PRCP-NORMAL'],color='r',label='Austin')\n",
    "ax.plot(weather['DATE'], weather['MLY-PRCP-25PCTL'],'--',color='b',label='Austin 25pct')\n",
    "ax.plot(weather['DATE'], weather['MLY-PRCP-75PCTL'],'--',color='b',label='Austin 75pct')\n",
    "\n",
    "ax.legend(loc='best')"
   ]
  },
  {
   "cell_type": "code",
   "execution_count": null,
   "metadata": {},
   "outputs": [],
   "source": [
    "# Now let us compare this to Seattle.\n",
    "# Can you still read the graph?\n",
    "\n",
    "fig = plt.figure()\n",
    "ax = fig.add_subplot()\n",
    "plt.title('Austin v. Seattle Precipitation')\n",
    "plt.xlabel('Time (months)')\n",
    "plt.ylabel('Precipitation (inches)')\n",
    "\n",
    "ax.plot(weather['DATE'], weather['MLY-PRCP-NORMAL'],color='b',label='Austin')\n",
    "ax.plot(weather['DATE'], weather['MLY-PRCP-25PCTL'],'--',color='b',label='Austin 25pct')\n",
    "ax.plot(weather['DATE'], weather['MLY-PRCP-75PCTL'],'--',color='b',label='Austin 75pct')\n",
    "\n",
    "ax.plot(seattle['DATE'], seattle['MLY-PRCP-NORMAL'],color='r',label='Seattle')\n",
    "ax.plot(seattle['DATE'], seattle['MLY-PRCP-25PCTL'],'--',color='r',label='Seattle 25pct')\n",
    "ax.plot(seattle['DATE'], seattle['MLY-PRCP-75PCTL'],'--',color='r',label='Seattle 75pct')\n",
    "\n",
    "ax.legend(loc='best')"
   ]
  },
  {
   "cell_type": "code",
   "execution_count": null,
   "metadata": {},
   "outputs": [],
   "source": [
    "# Instead of just one plot, we can use multiple small plots to show the data.\n",
    "# This can sometimes make the data easier to read.\n",
    "# We can create subplots with fig, ax = plt.add_subplots(rows, columns)\n",
    "\n",
    "fig, ax = plt.subplots(2,1, sharey=True) # sharey=True ensures all plots have the same y-axis scale.\n",
    "\n",
    "ax[0].plot(weather['DATE'], weather['MLY-PRCP-NORMAL'],color='b',label='Austin')\n",
    "ax[0].plot(weather['DATE'], weather['MLY-PRCP-25PCTL'],'--',color='b',label='Austin 25pct')\n",
    "ax[0].plot(weather['DATE'], weather['MLY-PRCP-75PCTL'],'--',color='b',label='Austin 75pct')\n",
    "\n",
    "ax[1].plot(seattle['DATE'], seattle['MLY-PRCP-NORMAL'],color='r',label='Seattle')\n",
    "ax[1].plot(seattle['DATE'], seattle['MLY-PRCP-25PCTL'],'--',color='r',label='Seattle 25pct')\n",
    "ax[1].plot(seattle['DATE'], seattle['MLY-PRCP-75PCTL'],'--',color='r',label='Seattle 75pct')\n",
    "\n",
    "ax[0].set_ylabel('Precipitation (inches)')\n",
    "ax[1].set_ylabel('Precipitation (inches)')\n",
    "\n",
    "ax[1].set_xlabel('Time (month)')\n",
    "ax[0].set_xticks([1,2,3,4,5,6,7,8,9,10,11,12])\n",
    "ax[0].set_xticklabels(['Jan','Feb','Mar','Apr','May','Jun','Jul','Aug','Sep','Oct','Nov','Dec'])\n",
    "ax[1].set_xticks([1,2,3,4,5,6,7,8,9,10,11,12])\n",
    "ax[1].set_xticklabels(['Jan','Feb','Mar','Apr','May','Jun','Jul','Aug','Sep','Oct','Nov','Dec'])\n",
    "\n",
    "ax[0].set_title('Austin Rainfall')\n",
    "ax[1].set_title('Seattle Rainfall')\n",
    "\n",
    "plt.subplots_adjust(hspace=.5)"
   ]
  },
  {
   "cell_type": "markdown",
   "metadata": {},
   "source": [
    "## Try Problem 1"
   ]
  },
  {
   "cell_type": "code",
   "execution_count": null,
   "metadata": {},
   "outputs": [],
   "source": [
    "# We will now work with a pollution dataset.\n",
    "\n",
    "pollution = pd.read_csv('data/pollution_wide.csv')\n",
    "pollution.sample(10)"
   ]
  },
  {
   "cell_type": "code",
   "execution_count": null,
   "metadata": {},
   "outputs": [],
   "source": [
    "# This is a large dataset that we cannot possibly understand from the numerical values alone.\n",
    "# We also cannot just plot all 9000 points and understand the data.\n",
    "\n",
    "pollution.info()"
   ]
  },
  {
   "cell_type": "code",
   "execution_count": null,
   "metadata": {},
   "outputs": [],
   "source": [
    "# Let us focus on highlighting specific data to draw attention to it.\n",
    "# We will utilize seaborn for this set of plotting. It is similar to matplotlib only with more functionality.\n",
    "\n",
    "import seaborn as sns\n",
    "\n",
    "cinci_pollution = pollution[pollution['city'] == 'Cincinnati']\n",
    "\n",
    "# Make an array of colors based upon if a row is a given day.\n",
    "cinci_colors = ['orangered' if day == 38 else 'steelblue' for day in cinci_pollution['day']]\n",
    "\n",
    "# Create the new multicolored plot.\n",
    "p = sns.regplot(x='NO2',\n",
    "                y='SO2',\n",
    "                data=cinci_pollution,\n",
    "                fit_reg=False,\n",
    "                scatter_kws={'facecolors':cinci_colors,'alpha':0.3})"
   ]
  },
  {
   "cell_type": "code",
   "execution_count": null,
   "metadata": {},
   "outputs": [],
   "source": [
    "# How can we compare two classes in more detail than what we have done above?\n",
    "# Let us examine the beeswarm plot for pollution during the month of november.\n",
    "\n",
    "pollution_nov = pollution[pollution['month'] == 10]\n",
    "sns.swarmplot(y='city', x='O3', data=pollution_nov)\n",
    "plt.xlabel('Ozone')"
   ]
  },
  {
   "cell_type": "code",
   "execution_count": null,
   "metadata": {},
   "outputs": [],
   "source": [
    "# We can also annotate our data to draw attention to a particular point.\n",
    "\n",
    "houston_pollution = pollution[pollution['city'] == 'Houston']\n",
    "\n",
    "sns.scatterplot(x='NO2', y='SO2', data=houston_pollution)\n",
    "\n",
    "plt.text(13,33, 'Look at this outlier', fontdict={'ha':'left', 'size':'x-large'})"
   ]
  },
  {
   "cell_type": "code",
   "execution_count": null,
   "metadata": {},
   "outputs": [],
   "source": [
    "# We can also draw attention to a point in the middle of our data.\n",
    "\n",
    "sns.scatterplot(x='NO2', y='SO2', data=houston_pollution)\n",
    "\n",
    "plt.annotate('A buried point to look at', xy=(45.5, 11.8), xytext=(60, 22), \n",
    "             arrowprops={'facecolor':'grey', 'width':3}, backgroundcolor='white')"
   ]
  },
  {
   "cell_type": "code",
   "execution_count": null,
   "metadata": {},
   "outputs": [],
   "source": [
    "# We can utilize color to make a visualization easier to understand.\n",
    "   \n",
    "indy_oct = pollution.loc[(pollution['year'] == 2015) & (pollution['city'] == 'Indianapolis')]\n",
    "blue_scale = sns.light_palette('steelblue', as_cmap=True)\n",
    "sns.heatmap(indy_oct[['O3']], cmap=blue_scale)"
   ]
  },
  {
   "cell_type": "code",
   "execution_count": null,
   "metadata": {},
   "outputs": [],
   "source": [
    "# Making use of color can improve or hurt readability...be careful!\n",
    "\n",
    "indy_oct = pollution.loc[(pollution['year'] == 2015) & (pollution['city'] == 'Indianapolis')]\n",
    "jet_scale  = sns.color_palette('Paired')\n",
    "sns.heatmap(indy_oct[['O3']], cmap=jet_scale)"
   ]
  },
  {
   "cell_type": "code",
   "execution_count": null,
   "metadata": {},
   "outputs": [],
   "source": [
    "# Plotting categorical values is different than continuous data.\n",
    "# Be creative when you have many categorical values. Too many can become hard to view.\n",
    "\n",
    "pollution['city'].unique()"
   ]
  },
  {
   "cell_type": "code",
   "execution_count": null,
   "metadata": {},
   "outputs": [],
   "source": [
    "pollution['interesting_city'] = [x if x in ['Denver', 'Houston'] else 'other' for x in pollution['city']]\n",
    "sns.scatterplot(x='NO2', y='SO2', hue='interesting_city', palette='Set2', data=pollution.query('year == 2014 & month == 12'))\n"
   ]
  },
  {
   "cell_type": "code",
   "execution_count": null,
   "metadata": {},
   "outputs": [],
   "source": [
    "# We can allow seaborn to assign the correct number of colors to our data as well.\n",
    "\n",
    "pollution['NO2 Tercile'] = pd.qcut(pollution['NO2'], 3, labels=False)\n",
    "sns.scatterplot(x='CO', y='SO2', hue='NO2 Tercile', palette='Paired', data=pollution.query(\"city == 'Long Beach' & year == 2014\"))"
   ]
  },
  {
   "cell_type": "markdown",
   "metadata": {},
   "source": [
    "### **Try problem #2**"
   ]
  },
  {
   "cell_type": "markdown",
   "metadata": {},
   "source": [
    "### **Try problem #3**"
   ]
  },
  {
   "cell_type": "code",
   "execution_count": null,
   "metadata": {},
   "outputs": [],
   "source": [
    "# Additional categorical visualization techniques are available.\n",
    "# Stripplots show all data points but that can be difficult with many observations.\n",
    "\n",
    "df = pd.read_csv('data/pollution_wide.csv')\n",
    "sns.stripplot(data=df, y='city', x = 'CO', jitter=True)"
   ]
  },
  {
   "cell_type": "code",
   "execution_count": null,
   "metadata": {},
   "outputs": [],
   "source": [
    "# A swarmplot shows all datapoints again, but in a more sophistocated view.\n",
    "# You now have no overlapping observations. This does not scale well to large datasets.\n",
    "\n",
    "sns.swarmplot(data=df, y='city', x='CO')"
   ]
  },
  {
   "cell_type": "code",
   "execution_count": null,
   "metadata": {},
   "outputs": [],
   "source": [
    "# A boxplot represents the data in an abstract (summarized) view.\n",
    "# Displays the median, upper quartile, lower quartile, and possible outliers.\n",
    "\n",
    "sns.boxplot(data=df, y='city', x='CO')"
   ]
  },
  {
   "cell_type": "code",
   "execution_count": null,
   "metadata": {},
   "outputs": [],
   "source": [
    "# Violin plots convey similar data to the boxplot, but present the data in another format.\n",
    "\n",
    "sns.violinplot(data=df, y='city', x='CO')"
   ]
  },
  {
   "cell_type": "code",
   "execution_count": null,
   "metadata": {},
   "outputs": [],
   "source": [
    "#Finally, the boxen plot is a hybrid of the box plot and the violin plot.\n",
    "\n",
    "sns.boxenplot(data=df, y='city', x='CO')"
   ]
  },
  {
   "cell_type": "code",
   "execution_count": null,
   "metadata": {},
   "outputs": [],
   "source": [
    "# We will now work through the pollutions dataset again.\n",
    "\n",
    "pol = pd.read_csv('data/pollution_wide.csv')\n",
    "pol.sample(5)"
   ]
  },
  {
   "cell_type": "code",
   "execution_count": null,
   "metadata": {},
   "outputs": [],
   "source": [
    "# We will first focus on numeric columns to look at the relationships.\n",
    "\n",
    "numeric_columns = ['CO', 'NO2', 'O3', 'SO2']\n",
    "pd.plotting.scatter_matrix(pol[numeric_columns], figsize = [15,10], alpha = 0.5);"
   ]
  },
  {
   "cell_type": "code",
   "execution_count": null,
   "metadata": {},
   "outputs": [],
   "source": [
    "# We will now dig deeper into these relationships.\n",
    "# We can use a linear regression line to observe the relationship.\n",
    "\n",
    "sns.regplot('CO','NO2', data=pol, scatter_kws={'alpha':0.2, 'color':'grey'})"
   ]
  },
  {
   "cell_type": "code",
   "execution_count": null,
   "metadata": {},
   "outputs": [],
   "source": [
    "# We can be more efficient by combining plots into one output.\n",
    "\n",
    "fig, (ax1, ax2) = plt.subplots(1,2) # one row, two columns\n",
    "sns.lineplot('month','NO2','year', ax=ax1, data=pol, palette='RdBu')\n",
    "sns.barplot('month', 'CO', 'year', ax=ax2, data=pol, palette='RdBu')"
   ]
  },
  {
   "cell_type": "code",
   "execution_count": null,
   "metadata": {},
   "outputs": [],
   "source": [
    "house = pd.read_csv('data/train.csv')\n",
    "house.sample(15)"
   ]
  },
  {
   "cell_type": "code",
   "execution_count": null,
   "metadata": {},
   "outputs": [],
   "source": [
    "numeric_features = house.select_dtypes(include=[np.number])\n",
    "numeric_features.columns"
   ]
  },
  {
   "cell_type": "code",
   "execution_count": null,
   "metadata": {},
   "outputs": [],
   "source": [
    "categorical_features = house.select_dtypes(include=[np.object])\n",
    "categorical_features.columns"
   ]
  },
  {
   "cell_type": "code",
   "execution_count": null,
   "metadata": {},
   "outputs": [],
   "source": [
    "# Correlation Matrix\n",
    "\n",
    "correlation = numeric_features.corr()\n",
    "f, ax = plt.subplots(figsize = (14, 12))\n",
    "plt.title('Correlation of Numeric Features', y=1, size=16)\n",
    "sns.heatmap(correlation, square=True, vmax=0.8)"
   ]
  },
  {
   "cell_type": "code",
   "execution_count": null,
   "metadata": {},
   "outputs": [],
   "source": [
    "house['OverallQual'].head()"
   ]
  },
  {
   "cell_type": "code",
   "execution_count": null,
   "metadata": {},
   "outputs": [],
   "source": [
    "# What variables are related to sale price?\n",
    "\n",
    "var = 'OverallQual'\n",
    "data = pd.concat([house['SalePrice'], house[var]], axis=1)\n",
    "f, ax = plt.subplots(figsize=(12, 8))\n",
    "fig = sns.boxplot(x=var, y='SalePrice', data=data)\n",
    "fig.axis(ymin=0, ymax=800000);"
   ]
  },
  {
   "cell_type": "code",
   "execution_count": null,
   "metadata": {},
   "outputs": [],
   "source": [
    "var = 'Neighborhood'\n",
    "data = pd.concat([house['SalePrice'], house[var]], axis=1)\n",
    "f, ax = plt.subplots(figsize=(16, 10))\n",
    "fig = sns.boxplot(x=var, y=\"SalePrice\", data=data)\n",
    "fig.axis(ymin=0, ymax=800000);\n",
    "xt = plt.xticks(rotation=45)"
   ]
  },
  {
   "cell_type": "code",
   "execution_count": null,
   "metadata": {},
   "outputs": [],
   "source": [
    "house.head()"
   ]
  },
  {
   "cell_type": "code",
   "execution_count": null,
   "metadata": {},
   "outputs": [],
   "source": [
    "# Plotting with subgroups (ie. groupby)\n",
    "# We will plot features with missing values vs. Sales Price for greater insights.\n",
    "# We first create a list of features that contain missing values.\n",
    "\n",
    "features_with_na = [features for features in house.columns if house[features].isnull().sum()>1]\n",
    "features_with_na"
   ]
  },
  {
   "cell_type": "code",
   "execution_count": null,
   "metadata": {},
   "outputs": [],
   "source": [
    "# Create a categorical variable for null values to be used in the visualization.\n",
    "\n",
    "house['LotFrontage_zero'] = np.where(house['LotFrontage'].isnull(),1,0)\n",
    "house.groupby('LotFrontage_zero')['SalePrice'].median().plot.bar()"
   ]
  },
  {
   "cell_type": "code",
   "execution_count": null,
   "metadata": {
    "scrolled": false
   },
   "outputs": [],
   "source": [
    "# We can do this for all features with a for loop.\n",
    "\n",
    "for feature in features_with_na:\n",
    "    dataset = house.copy()\n",
    "    dataset[feature] = np.where(dataset[feature].isnull(),1,0)\n",
    "    dataset.groupby(feature)['SalePrice'].median().plot.bar()\n",
    "    plt.title(feature)\n",
    "    plt.show()"
   ]
  },
  {
   "cell_type": "code",
   "execution_count": null,
   "metadata": {
    "scrolled": true
   },
   "outputs": [],
   "source": [
    "# We can examine the relationship between categorical variables and Sales Price too.\n",
    "# We will again use a groupby statement.\n",
    "\n",
    "for feature in categorical_features:\n",
    "    data=house.copy()\n",
    "    data.groupby(feature)['SalePrice'].median().plot.bar()\n",
    "    plt.xlabel(feature)\n",
    "    plt.ylabel('SalePrice')\n",
    "    plt.title(feature)\n",
    "    plt.show()"
   ]
  },
  {
   "cell_type": "code",
   "execution_count": null,
   "metadata": {},
   "outputs": [],
   "source": [
    "houseMini = house[['MSSubClass', 'LotFrontage', 'LotArea', 'OverallQual', \n",
    "               'YearBuilt', 'KitchenQual', 'Alley', 'Neighborhood', 'SalePrice']]\n",
    "houseMini.head()"
   ]
  },
  {
   "cell_type": "markdown",
   "metadata": {},
   "source": [
    "### **Try problem #4**"
   ]
  }
 ],
 "metadata": {
  "kernelspec": {
   "display_name": "Python 3 (ipykernel)",
   "language": "python",
   "name": "python3"
  },
  "language_info": {
   "codemirror_mode": {
    "name": "ipython",
    "version": 3
   },
   "file_extension": ".py",
   "mimetype": "text/x-python",
   "name": "python",
   "nbconvert_exporter": "python",
   "pygments_lexer": "ipython3",
   "version": "3.9.7"
  }
 },
 "nbformat": 4,
 "nbformat_minor": 2
}

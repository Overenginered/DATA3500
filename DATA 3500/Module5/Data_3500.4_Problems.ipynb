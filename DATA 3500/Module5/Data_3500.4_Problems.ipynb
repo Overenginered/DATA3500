{
 "cells": [
  {
   "cell_type": "markdown",
   "metadata": {},
   "source": [
    "# **Solutions**\n",
    "- Run this cell before starting the notebook. You do not need to look at or understand the code. By running this, you will allow yourself to see solutions throughout the notebook as I ask you to solve problems."
   ]
  },
  {
   "cell_type": "code",
   "execution_count": null,
   "metadata": {},
   "outputs": [],
   "source": [
    "%%capture\n",
    "%load_ext autoreload\n",
    "%autoreload 2\n",
    "\n",
    "!pip install --upgrade git+https://github.com/1901Analytics/DATA3500.git\n",
    "\n",
    "from course_solutions.Data3500_ICPS import *\n",
    "\n",
    "import pandas as pd\n",
    "import numpy as np\n",
    "import matplotlib.pyplot as plt\n",
    "import seaborn as sns"
   ]
  },
  {
   "cell_type": "markdown",
   "metadata": {},
   "source": [
    "### **Try the following problem #1**\n",
    "\n",
    "Using the Seattle weather file, we are going to create a few visualizations.\n",
    "- Create two seperate graphs of different colors within the same output window. The graphs should present the average rainfall, the 25th percentile, and the 75th percentile. The first graph should be for station USC00456295 and the second graph should be for station USC00454486. Be sure to include all relevant labels.\n",
    "- Create one graph of different colors within the same output window. The graphs should present the average rainfall, the 25th percentile, and the 75th percentile. The first set of lines should be for station USC00456295 and the second set of lines should be for station USC00454486. Be sure to include all relevant labels.\n",
    "- Which graph makes the data easier to understand and why (discuss).\n",
    "\n",
    "If you want to see the solution to this problem, run the code **solution4_1()** in an empty cell."
   ]
  },
  {
   "cell_type": "code",
   "execution_count": null,
   "metadata": {},
   "outputs": [],
   "source": [
    "seattle = pd.read_csv('data/seattle_weather.csv')\n",
    "station1 = seattle.loc[seattle['STATION'] == 'USC00456295']\n",
    "station2 = seattle.loc[seattle['STATION'] == 'USC00454486']\n",
    "fig, ax = plt.subplots(2,1, sharey=True) # sharey=True ensures all plots have the same y-axis scale.\n",
    "\n",
    "ax[0].plot(station1['DATE'], station1['MLY-PRCP-NORMAL'],'k',color='b',label='Station1')\n",
    "ax[0].plot(station1['DATE'], station1['MLY-PRCP-25PCTL'],'k--',color='b',label='Station1 25pct')\n",
    "ax[0].plot(station1['DATE'], station1['MLY-PRCP-75PCTL'],'k--',color='b',label='Station1 75pct')\n",
    "ax[1].plot(station2['DATE'], station2['MLY-PRCP-NORMAL'],'k',color='r',label='Station2')\n",
    "ax[1].plot(station2['DATE'], station2['MLY-PRCP-25PCTL'],'k--',color='r',label='Station2 25pct')\n",
    "ax[1].plot(station2['DATE'], station2['MLY-PRCP-75PCTL'],'k--',color='r',label='Station2 75pct')\n",
    "\n",
    "ax[0].set_ylabel('Precipitation (inches)')\n",
    "ax[1].set_ylabel('Precipitation (inches)')\n",
    "ax[1].set_xlabel('Time (month)')\n",
    "ax[0].set_xticks([1,2,3,4,5,6,7,8,9,10,11,12])\n",
    "ax[0].set_xticklabels(['Jan','Feb','Mar','Apr','May','Jun','Jul','Aug','Sep','Oct','Nov','Dec'])\n",
    "ax[1].set_xticks([1,2,3,4,5,6,7,8,9,10,11,12])\n",
    "ax[1].set_xticklabels(['Jan','Feb','Mar','Apr','May','Jun','Jul','Aug','Sep','Oct','Nov','Dec'])\n",
    "ax[0].set_title('USC00456295 (Station 1) Rainfall')\n",
    "ax[1].set_title('USC00454486 (Station 2) Rainfall')\n",
    "plt.subplots_adjust(hspace=.5)\n",
    "\n",
    "fig = plt.figure()\n",
    "ax = fig.add_subplot()\n",
    "plt.title('Station 1 v. Station 2 Precipitation')\n",
    "plt.xlabel('Time (months)')\n",
    "plt.ylabel('Precipitation (inches)')\n",
    "ax.plot(station1['DATE'], station1['MLY-PRCP-NORMAL'],'k',label='Station1')\n",
    "ax.plot(station1['DATE'], station1['MLY-PRCP-25PCTL'],'k--',label='Station1 25pct')\n",
    "ax.plot(station1['DATE'], station1['MLY-PRCP-75PCTL'],'k--',label='Station1 75pct')\n",
    "ax.plot(station2['DATE'], station2['MLY-PRCP-NORMAL'],'r',label='Station2')\n",
    "ax.plot(station2['DATE'], station2['MLY-PRCP-25PCTL'],'r--',label='Station2 25pct')\n",
    "ax.plot(station2['DATE'], station2['MLY-PRCP-75PCTL'],'r--',label='Station2 75pct')\n",
    "ax.legend(loc='best')"
   ]
  },
  {
   "cell_type": "code",
   "execution_count": null,
   "metadata": {},
   "outputs": [],
   "source": [
    "# Try your answer to problem #1 here.\n",
    "# Remember that you can get an answer by running solution4_1()\n",
    "# You can run the solution code by removing the '#' below and\n",
    "# then running this cell.\n",
    "\n",
    "solution4_1()"
   ]
  },
  {
   "cell_type": "markdown",
   "metadata": {},
   "source": [
    "### **Try the following problem #2**\n",
    "\n",
    "You are working with the city of Houston to look at the relationship between sulfur dioxide (SO2) and nitrogen dioxide (NO2) pollution, specifically, pollution in the most recent year data was collected (2014). You have singled out a particularly bad day, November 26th, where there was a bad spike in the SO2 levels. To draw the viewers attention to this bad day, you will highlight it in a bright orangish-red and color the rest of the points gray.\n",
    "- Create an array that makes day 330 'orangered' and all other days 'lightgray'.\n",
    "- Use sns.regplot to create a plot with 'NO2' on the x-axis and 'S02' on the y-axis with the correct colors.\n",
    "\n",
    "If you want to see the solution to this problem, run the code **solution4_2()** in an empty cell."
   ]
  },
  {
   "cell_type": "code",
   "execution_count": null,
   "metadata": {},
   "outputs": [],
   "source": [
    "# Try your answer to problem #2 here.\n",
    "# Remember that you can get an answer by running solution4_2()\n",
    "# You can run the solution code by removing the '#' below and\n",
    "# then running this cell.\n",
    "\n",
    "solution4_2()"
   ]
  },
  {
   "cell_type": "markdown",
   "metadata": {},
   "source": [
    "### **Try the following problem #3**\n",
    "\n",
    "You are continuing your work for the city of Houston. Now you want to look at the behavior of both NO2 and SO2 when the un-plotted ozone (O3) value was at its highest.\n",
    "- Find the highest observed 03 value and save it to max_03.\n",
    "- Make a column in houston_pollution called 'point_type' that denotes which day had the highest 03 (similar steps to identifying day 330 from above). Put 'Highest 03 Day' as the value on the highest day and 'Others' on the other dates.\n",
    "- Plot this data using sns.scatterplot and hue = 'point_type' from the prior step. sns.scatterplot is code is provided below.\n",
    "\n",
    "sns.scatterplot(x='value_x',\n",
    "                y='value_y',\n",
    "                hue='hue_value',\n",
    "                data='data_set')\n",
    "\n",
    "If you want to see the solution to this problem, run the code **solution4_3()** in an empty cell."
   ]
  },
  {
   "cell_type": "code",
   "execution_count": null,
   "metadata": {},
   "outputs": [],
   "source": [
    "# Try your answer to problem #3 here.\n",
    "# Remember that you can get an answer by running solution4_3()\n",
    "# You can run the solution code by removing the '#' below and\n",
    "# then running this cell.\n",
    "\n",
    "solution4_3()"
   ]
  },
  {
   "cell_type": "markdown",
   "metadata": {},
   "source": [
    "### **Try the following problem #4**\n",
    "\n",
    "We will now work with the housing data to create a set of graphs that may combine visualization, for loops, groupby, and variable creation.\n",
    "- Which neighborhoods sold the most before vs. after 2008 (YrSold variable). Is it even visible in this graph?\n",
    "- Graph the average sale price by first floor square footage above/below the median value.\n",
    "- Graph all average sale price by all numeric features where each feature is divided by its median value.\n",
    "\n",
    "If you want to see the solution to this problem, run the code **solution4_4()** in an empty cell."
   ]
  },
  {
   "cell_type": "code",
   "execution_count": null,
   "metadata": {},
   "outputs": [],
   "source": [
    "# Try your answer to problem #4 here.\n",
    "# Remember that you can get an answer by running solution4_4()\n",
    "# You can run the solution code by removing the '#' below and\n",
    "# then running this cell.\n",
    "                                 \n",
    "solution4_4()                                 "
   ]
  },
  {
   "cell_type": "code",
   "execution_count": null,
   "metadata": {},
   "outputs": [],
   "source": [
    "numeric_features"
   ]
  },
  {
   "cell_type": "code",
   "execution_count": null,
   "metadata": {},
   "outputs": [],
   "source": [
    "house = pd.read_csv('data/train.csv')\n",
    "numeric_features = house.select_dtypes(include=[np.number])\n",
    "\n",
    "\n",
    "for feature in numeric_features:\n",
    "    dataset = numeric_features.copy()\n",
    "    dataset[feature] = np.where(dataset[feature] > dataset[feature].median() ,1 ,0)\n",
    "    dataset.groupby(feature)['SalePrice'].mean().plot.bar()\n",
    "    plt.title(feature)\n",
    "    plt.show()"
   ]
  },
  {
   "cell_type": "code",
   "execution_count": null,
   "metadata": {},
   "outputs": [],
   "source": []
  }
 ],
 "metadata": {
  "kernelspec": {
   "display_name": "Python 3 (ipykernel)",
   "language": "python",
   "name": "python3"
  },
  "language_info": {
   "codemirror_mode": {
    "name": "ipython",
    "version": 3
   },
   "file_extension": ".py",
   "mimetype": "text/x-python",
   "name": "python",
   "nbconvert_exporter": "python",
   "pygments_lexer": "ipython3",
   "version": "3.9.7"
  }
 },
 "nbformat": 4,
 "nbformat_minor": 2
}
